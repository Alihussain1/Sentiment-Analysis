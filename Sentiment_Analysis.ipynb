{
 "cells": [
  {
   "cell_type": "code",
   "execution_count": 1,
   "metadata": {},
   "outputs": [],
   "source": [
    "import torch\n",
    "import numpy as np\n",
    "import torchvision\n",
    "import torch.nn as nn"
   ]
  },
  {
   "cell_type": "code",
   "execution_count": 2,
   "metadata": {},
   "outputs": [
    {
     "data": {
      "text/plain": [
       "'cuda:0'"
      ]
     },
     "execution_count": 2,
     "metadata": {},
     "output_type": "execute_result"
    }
   ],
   "source": [
    "device = 'cuda:0' if torch.cuda.is_available() else 'cpu'\n",
    "device"
   ]
  },
  {
   "cell_type": "code",
   "execution_count": 19,
   "metadata": {},
   "outputs": [],
   "source": [
    "with open('reviews.txt', 'r') as f:\n",
    "    reviews = f.read()\n",
    "with open('labels.txt', 'r') as f:\n",
    "    labels = f.read()"
   ]
  },
  {
   "cell_type": "code",
   "execution_count": 20,
   "metadata": {},
   "outputs": [],
   "source": [
    "from string import punctuation\n",
    "from collections import Counter\n",
    "\n",
    "reviews = reviews.lower()\n",
    "reviews = ''.join(char for char in reviews if char not in punctuation)\n",
    "reviews = reviews.split('\\n')\n",
    "\n",
    "##get list of all words\n",
    "allWords = ' '.join(reviews)\n",
    "words = allWords.split()\n",
    "\n",
    "word_counter = Counter(words)\n",
    "sorted_word_counter = sorted(word_counter,key=word_counter.get,reverse=True)\n",
    "word_to_int = {word: indx for indx, word in enumerate(sorted_word_counter,1)}\n",
    "\n",
    "##encoding reviews using word_to_int\n",
    "encoded_reviews = []\n",
    "for rev in reviews:\n",
    "    encoded_reviews.append([word_to_int[word] for word in rev.split()])"
   ]
  },
  {
   "cell_type": "code",
   "execution_count": 21,
   "metadata": {},
   "outputs": [
    {
     "name": "stdout",
     "output_type": "stream",
     "text": [
      "['bromwell', 'high', 'is', 'a', 'cartoon', 'comedy', 'it', 'ran', 'at', 'the']\n",
      "bromwell  ->  21025\n",
      "high  ->  308\n",
      "Words Count :  6020196\n",
      "Unique Words Count :  74072\n",
      "Encoded Reviews :  25001\n"
     ]
    }
   ],
   "source": [
    "print(words[:10])\n",
    "print(words[0],\" -> \" , word_to_int[words[0]])\n",
    "print(words[1],\" -> \" ,word_to_int[words[1]])\n",
    "print(\"Words Count : \" , len(words))\n",
    "print(\"Unique Words Count : \" , len(word_to_int))\n",
    "print(\"Encoded Reviews : \",len(encoded_reviews))"
   ]
  },
  {
   "cell_type": "code",
   "execution_count": 22,
   "metadata": {},
   "outputs": [
    {
     "name": "stdout",
     "output_type": "stream",
     "text": [
      "Zero-length reviews:  1\n",
      "Maximum review length:  2514\n"
     ]
    }
   ],
   "source": [
    "# outlier review stats\n",
    "review_lens = Counter([len(x) for x in encoded_reviews])\n",
    "print(\"Zero-length reviews: \",review_lens[0])\n",
    "print(\"Maximum review length: \",max(review_lens))"
   ]
  },
  {
   "cell_type": "code",
   "execution_count": 23,
   "metadata": {},
   "outputs": [
    {
     "name": "stdout",
     "output_type": "stream",
     "text": [
      "Encoded Reviews :  25000\n",
      "labels :  200000\n"
     ]
    }
   ],
   "source": [
    "#remove the zero length review\n",
    "#must get index to delete same index from labels\n",
    "zero_length_index = [index  for index,encoded_review in enumerate(encoded_reviews) if len(encoded_review) > 0 ]\n",
    "#[ii for ii, review in enumerate(reviews_ints) if len(review) != 0]\n",
    "encoded_reviews = [encoded_review for encoded_review in encoded_reviews if len(encoded_review) > 0 ]\n",
    "labels = [label for index,label in enumerate(labels) if index not in zero_length_index]\n",
    "print(\"Encoded Reviews : \",len(encoded_reviews))\n",
    "print(\"labels : \",len(labels))"
   ]
  },
  {
   "cell_type": "code",
   "execution_count": null,
   "metadata": {},
   "outputs": [],
   "source": []
  }
 ],
 "metadata": {
  "kernelspec": {
   "display_name": "Python 3",
   "language": "python",
   "name": "python3"
  },
  "language_info": {
   "codemirror_mode": {
    "name": "ipython",
    "version": 3
   },
   "file_extension": ".py",
   "mimetype": "text/x-python",
   "name": "python",
   "nbconvert_exporter": "python",
   "pygments_lexer": "ipython3",
   "version": "3.6.1"
  }
 },
 "nbformat": 4,
 "nbformat_minor": 2
}
